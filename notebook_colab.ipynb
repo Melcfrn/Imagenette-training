{
 "cells": [
  {
   "cell_type": "code",
   "execution_count": null,
   "metadata": {},
   "outputs": [],
   "source": [
    "%%bash\n",
    "git clone https://github.com/Melcfrn/Imagenette-training\n",
    "cd Imagenette-training/\n",
    "wget https://s3.amazonaws.com/fast-ai-imageclas/imagenette2-320.tgz\n",
    "tar -xvzf imagenette2-320.tgz\n",
    "python main.py"
   ]
  }
 ],
 "metadata": {
  "language_info": {
   "name": "python"
  },
  "orig_nbformat": 4
 },
 "nbformat": 4,
 "nbformat_minor": 2
}
